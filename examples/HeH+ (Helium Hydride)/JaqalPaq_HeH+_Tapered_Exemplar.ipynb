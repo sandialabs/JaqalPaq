{
 "cells": [
  {
   "cell_type": "markdown",
   "metadata": {},
   "source": [
    "# Helium Hydride (Tapered HeH+) Exemplar\n",
    "## Step 0: Import various libraries"
   ]
  },
  {
   "cell_type": "code",
   "execution_count": 1,
   "metadata": {
    "execution": {
     "iopub.execute_input": "1970-01-01T00:00:00.000000Z",
     "iopub.status.busy": "1970-01-01T00:00:00.000000Z",
     "iopub.status.idle": "1970-01-01T00:00:00.000000Z",
     "shell.execute_reply": "1970-01-01T00:00:00.000000Z"
    }
   },
   "outputs": [],
   "source": [
    "# Imports for QSCOUT\n",
    "import jaqalpaq\n",
    "from jaqalpaq.core import circuitbuilder\n",
    "from jaqalpaq.run import run_jaqal_circuit\n",
    "from qscout.v1.std.jaqal_gates import ALL_GATES as std\n",
    "from qscout.v1.std import noisy\n",
    "\n",
    "# Imports for basic mathematical functionality\n",
    "from math import pi\n",
    "import numpy as np\n",
    "\n",
    "# Imports for OpenFermion(-PySCF)\n",
    "import openfermion as of\n",
    "from openfermion.chem import MolecularData\n",
    "from openfermionpyscf import run_pyscf\n",
    "\n",
    "# Import for VQE optimizer\n",
    "from scipy import optimize"
   ]
  },
  {
   "cell_type": "markdown",
   "metadata": {},
   "source": [
    "## Step 1: SCF calculation to assemble the second-quantized Hamiltonian"
   ]
  },
  {
   "cell_type": "code",
   "execution_count": 2,
   "metadata": {
    "execution": {
     "iopub.execute_input": "1970-01-01T00:00:00.000000Z",
     "iopub.status.busy": "1970-01-01T00:00:00.000000Z",
     "iopub.status.idle": "1970-01-01T00:00:00.000000Z",
     "shell.execute_reply": "1970-01-01T00:00:00.000000Z"
    }
   },
   "outputs": [
    {
     "name": "stdout",
     "output_type": "stream",
     "text": [
      "Bond Length in Angstroms: 0.8\n",
      "FCI (Exact) energy in Hartrees: -2.8557086272280108\n"
     ]
    }
   ],
   "source": [
    "# Set the basis set, spin, and charge of the HeH+ molecule\n",
    "basis = 'sto-3g'\n",
    "multiplicity = 1\n",
    "charge = 1 #Charge is 1 for HeH+\n",
    "\n",
    "# Set calculation parameters\n",
    "run_scf = 1\n",
    "run_fci = 1\n",
    "delete_input = True\n",
    "delete_output = False\n",
    "\n",
    "# Generate molecule at some bond length (0.8 Angstroms here)\n",
    "geometry = [('He', (0., 0., 0.)), ('H', (0., 0., 0.8))]\n",
    "molecule = MolecularData(geometry, basis, multiplicity, charge, filename='./HeH+_2_sto-3g_single_0.8') #Set file location of data\n",
    "\n",
    "# Run pyscf to generate new molecular data for sto-3g HeH+\n",
    "molecule = run_pyscf(molecule, run_scf=run_scf, run_fci=run_fci, verbose=False)\n",
    "\n",
    "print(\"Bond Length in Angstroms: {}\".format(0.8))\n",
    "print(\"FCI (Exact) energy in Hartrees: {}\".format(molecule.fci_energy))"
   ]
  },
  {
   "cell_type": "markdown",
   "metadata": {},
   "source": [
    "## Step 2: Convert the fermionic Hamiltonian to a qubit Hamiltonian"
   ]
  },
  {
   "cell_type": "code",
   "execution_count": 3,
   "metadata": {
    "execution": {
     "iopub.execute_input": "1970-01-01T00:00:00.000000Z",
     "iopub.status.busy": "1970-01-01T00:00:00.000000Z",
     "iopub.status.idle": "1970-01-01T00:00:00.000000Z",
     "shell.execute_reply": "1970-01-01T00:00:00.000000Z"
    }
   },
   "outputs": [],
   "source": [
    "# Get the fermionic Hamiltonian for HeH+ and map it using the BK encoding\n",
    "hamiltonian = molecule.get_molecular_hamiltonian()\n",
    "hamiltonian_ferm = of.get_fermion_operator(hamiltonian)\n",
    "hamiltonian_bk = of.symmetry_conserving_bravyi_kitaev(hamiltonian_ferm,\n",
    "                                    active_orbitals=4, active_fermions=2)\n",
    "\n",
    "# Define terms and coefficients of our Hamiltonian\n",
    "terms = []\n",
    "cs = [] #Coefficients\n",
    "for term in hamiltonian_bk.terms:\n",
    "    paulis = [None, None]\n",
    "    for pauli in term:\n",
    "        paulis[pauli[0]] = pauli[1]\n",
    "    terms += [paulis]\n",
    "    cs += [hamiltonian_bk.terms[term]]"
   ]
  },
  {
   "cell_type": "markdown",
   "metadata": {},
   "source": [
    "## Step 3: Define UCC Ansatz circuit in JaqalPaq"
   ]
  },
  {
   "cell_type": "code",
   "execution_count": 4,
   "metadata": {
    "execution": {
     "iopub.execute_input": "1970-01-01T00:00:00.000000Z",
     "iopub.status.busy": "1970-01-01T00:00:00.000000Z",
     "iopub.status.idle": "1970-01-01T00:00:00.000000Z",
     "shell.execute_reply": "1970-01-01T00:00:00.000000Z"
    }
   },
   "outputs": [],
   "source": [
    "def ansatz(theta, term):\n",
    "    builder = circuitbuilder.CircuitBuilder(native_gates=std)\n",
    "\n",
    "    # Create a qubit register\n",
    "    q = builder.register('q', 2)\n",
    "\n",
    "    # Prepare the Hartree Fock state\n",
    "    builder.gate('prepare_all')\n",
    "    builder.gate('Px', q[0])\n",
    "    builder.gate('Px', q[1])\n",
    "    \n",
    "    # Apply the UCC Ansatz exp[-i*theta(X1 Y0)]\n",
    "    builder.gate('MS', q[1], q[0], 0, np.pi/2)\n",
    "    builder.gate('Rz', q[1], theta)\n",
    "    builder.gate('MS', q[1], q[0], 0, -np.pi/2)\n",
    "\n",
    "    # Change basis for measurement depending on term\n",
    "    for j, qubit in enumerate(term):\n",
    "        if qubit == 'X':\n",
    "            builder.gate('Sy', ('array_item', q, j))\n",
    "            builder.gate('Px', ('array_item', q, j))\n",
    "        if qubit == 'Y':\n",
    "            builder.gate('Sxd', ('array_item', q, j))\n",
    "\n",
    "    builder.gate('measure_all')\n",
    "\n",
    "    circuit = builder.build()\n",
    "\n",
    "    return circuit"
   ]
  },
  {
   "cell_type": "markdown",
   "metadata": {},
   "source": [
    "## Step 4: Define functions to calculate energy expectation value of Ansatz state"
   ]
  },
  {
   "cell_type": "code",
   "execution_count": 5,
   "metadata": {
    "execution": {
     "iopub.execute_input": "1970-01-01T00:00:00.000000Z",
     "iopub.status.busy": "1970-01-01T00:00:00.000000Z",
     "iopub.status.idle": "1970-01-01T00:00:00.000000Z",
     "shell.execute_reply": "1970-01-01T00:00:00.000000Z"
    }
   },
   "outputs": [],
   "source": [
    "def ansatz_sampling(theta, sample_noise):\n",
    "    term_probs = []\n",
    "    for i in range(len(terms)):\n",
    "        if sample_noise:\n",
    "            probs = np.zeros(4)\n",
    "            circuit = ansatz(theta, terms[i])\n",
    "            sim_result = run_jaqal_circuit(circuit) #Run circuit on emulator\n",
    "            sim_probs = sim_result.subcircuits[0].probability_by_int\n",
    "            sample = np.random.choice(4, size=n_samples, p=sim_probs) #Sample from distribution to get probabilities\n",
    "            \n",
    "            for count in sample:\n",
    "                probs[count] += 1 #Increment state counter\n",
    "            probs = probs/n_samples #Determine probabilities from sampling\n",
    "            term_probs += [probs] #Combine lists of probs of each term in Hamiltonian\n",
    "                \n",
    "        else: #Exact solution without sampling\n",
    "            circuit = ansatz(theta, terms[i])\n",
    "            sim_result = run_jaqal_circuit(circuit) #Run circuit on emulator\n",
    "            sim_probs = sim_result.subcircuits[0].probability_by_int\n",
    "            term_probs += [sim_probs]\n",
    "    \n",
    "    return term_probs"
   ]
  },
  {
   "cell_type": "code",
   "execution_count": 6,
   "metadata": {
    "execution": {
     "iopub.execute_input": "1970-01-01T00:00:00.000000Z",
     "iopub.status.busy": "1970-01-01T00:00:00.000000Z",
     "iopub.status.idle": "1970-01-01T00:00:00.000000Z",
     "shell.execute_reply": "1970-01-01T00:00:00.000000Z"
    },
    "scrolled": true
   },
   "outputs": [],
   "source": [
    "# Calculate energy of one term of the Hamiltonian for one possible state\n",
    "def term_energy(term, state, coefficient, prob):\n",
    "    parity = 1\n",
    "    for i in range(len(term)):\n",
    "        #Change parity if state is occupied and is acted on by a pauli operator\n",
    "        if term[i] != None and state[i] == '1':\n",
    "            parity = -1*parity\n",
    "    return coefficient*prob*parity\n",
    "\n",
    "# Calculate energy of the molecule for a given value of theta\n",
    "def calculate_energy(theta, sample_noise):\n",
    "    energy = 0\n",
    "    probs = ansatz_sampling(theta[0], sample_noise) #Convert tuple (from optimization) to float for circuit\n",
    "    for i in range(len(terms)): #For each term in the hamiltonian\n",
    "        for j in range(len(probs[0])): #For each possible state\n",
    "            term = terms[i]\n",
    "            state = '{0:02b}'.format(j)[::-1] #convert state to binary (# of qubits)\n",
    "            coefficient = cs[i].real\n",
    "            prob = probs[i][j]\n",
    "            #print(term, state, coefficient, prob)\n",
    "            energy += term_energy(term, state, coefficient, prob)\n",
    "    return energy"
   ]
  },
  {
   "cell_type": "markdown",
   "metadata": {},
   "source": [
    "## Step 5: Optimize Ground State Energy for given Bond Length"
   ]
  },
  {
   "cell_type": "code",
   "execution_count": 7,
   "metadata": {
    "execution": {
     "iopub.execute_input": "1970-01-01T00:00:00.000000Z",
     "iopub.status.busy": "1970-01-01T00:00:00.000000Z",
     "iopub.status.idle": "1970-01-01T00:00:00.000000Z",
     "shell.execute_reply": "1970-01-01T00:00:00.000000Z"
    }
   },
   "outputs": [
    {
     "data": {
      "text/plain": [
       " message: Optimization terminated successfully.\n",
       " success: True\n",
       "  status: 1\n",
       "     fun: -2.8553440209439676\n",
       "       x: [ 1.275e-01]\n",
       "    nfev: 22\n",
       "   maxcv: 0.0"
      ]
     },
     "execution_count": 7,
     "metadata": {},
     "output_type": "execute_result"
    }
   ],
   "source": [
    "# Minimize the energy using classical optimization\n",
    "n_samples = 10000\n",
    "optimize.minimize(fun=calculate_energy, x0=[0.01], args=(False), method=\"COBYLA\")"
   ]
  },
  {
   "cell_type": "markdown",
   "metadata": {},
   "source": [
    "## Step 6: Loop over previous steps to calculate ground state energy at different bond lengths"
   ]
  },
  {
   "cell_type": "code",
   "execution_count": 8,
   "metadata": {
    "execution": {
     "iopub.execute_input": "1970-01-01T00:00:00.000000Z",
     "iopub.status.busy": "1970-01-01T00:00:00.000000Z",
     "iopub.status.idle": "1970-01-01T00:00:00.000000Z",
     "shell.execute_reply": "1970-01-01T00:00:00.000000Z"
    }
   },
   "outputs": [
    {
     "name": "stdout",
     "output_type": "stream",
     "text": [
      "R=0.5\t Exact Energy: -2.640714590488258\n",
      "R=0.5\t Optimized Energy: -2.6406229370104994\t Sampling Noise: False\n",
      "R=0.5\t Optimized Energy: -2.639693353511254\t Sampling Noise: True\n",
      "\n",
      "\n",
      "R=0.6\t Exact Energy: -2.770009377935128\n",
      "R=0.6\t Optimized Energy: -2.7698461613447805\t Sampling Noise: False\n",
      "R=0.6\t Optimized Energy: -2.7697976643633893\t Sampling Noise: True\n",
      "\n",
      "\n",
      "R=0.7\t Exact Energy: -2.8304829590638922\n",
      "R=0.7\t Optimized Energy: -2.8302229093773565\t Sampling Noise: False\n",
      "R=0.7\t Optimized Energy: -2.832342274787242\t Sampling Noise: True\n",
      "\n",
      "\n",
      "R=0.8\t Exact Energy: -2.8557086272280108\n",
      "R=0.8\t Optimized Energy: -2.8553440209439676\t Sampling Noise: False\n",
      "R=0.8\t Optimized Energy: -2.8556491987005583\t Sampling Noise: True\n",
      "\n",
      "\n",
      "R=0.9\t Exact Energy: -2.8626175787977783\n",
      "R=0.9\t Optimized Energy: -2.862169913057258\t Sampling Noise: False\n",
      "R=0.9\t Optimized Energy: -2.8654639275226517\t Sampling Noise: True\n",
      "\n",
      "\n",
      "R=1.0\t Exact Energy: -2.860205122579802\n",
      "R=1.0\t Optimized Energy: -2.8597244890292637\t Sampling Noise: False\n",
      "R=1.0\t Optimized Energy: -2.8569911548072735\t Sampling Noise: True\n",
      "\n",
      "\n",
      "R=1.1\t Exact Energy: -2.8535161884043774\n",
      "R=1.1\t Optimized Energy: -2.85306474843804\t Sampling Noise: False\n",
      "R=1.1\t Optimized Energy: -2.8552324837155876\t Sampling Noise: True\n",
      "\n",
      "\n",
      "R=1.2\t Exact Energy: -2.845425337862729\n",
      "R=1.2\t Optimized Energy: -2.845053480761723\t Sampling Noise: False\n",
      "R=1.2\t Optimized Energy: -2.8413633071310405\t Sampling Noise: True\n",
      "\n",
      "\n",
      "R=1.3\t Exact Energy: -2.8374968796708915\n",
      "R=1.3\t Optimized Energy: -2.837227112660728\t Sampling Noise: False\n",
      "R=1.3\t Optimized Energy: -2.8367431798781775\t Sampling Noise: True\n",
      "\n",
      "\n",
      "R=1.4\t Exact Energy: -2.8304890634141437\n",
      "R=1.4\t Optimized Energy: -2.8303157842945366\t Sampling Noise: False\n",
      "R=1.4\t Optimized Energy: -2.828949731973117\t Sampling Noise: True\n",
      "\n",
      "\n",
      "R=1.5\t Exact Energy: -2.8246826761898016\n",
      "R=1.5\t Optimized Energy: -2.8245835174589793\t Sampling Noise: False\n",
      "R=1.5\t Optimized Energy: -2.8264899152808414\t Sampling Noise: True\n",
      "\n",
      "\n"
     ]
    }
   ],
   "source": [
    "# Set the basis set, spin, and charge of the HeH+ molecule\n",
    "basis = 'sto-3g'\n",
    "multiplicity = 1\n",
    "charge = 1 #Charge is 1 for HeH+\n",
    "\n",
    "# Set calculation parameters\n",
    "run_scf = 1\n",
    "run_fci = 1\n",
    "delete_input = True\n",
    "delete_output = False\n",
    "\n",
    "optimized_energies = [[], []]\n",
    "error_bars = []\n",
    "exact_energies = []\n",
    "\n",
    "# Loop over bond lengths from 0.5 to 1.5 angstroms\n",
    "n_samples = 10000 # Sample circuit\n",
    "n_pts = 11 # Number of points\n",
    "bond_lengths = np.linspace(0.5,1.5,n_pts)\n",
    "for diatomic_bond_length in bond_lengths:\n",
    "    # Generate molecule at some bond length\n",
    "    geometry = [('He', (0., 0., 0.)), ('H', (0., 0., diatomic_bond_length))]\n",
    "    description=str(round(diatomic_bond_length, 2))\n",
    "    molecule = MolecularData(\n",
    "        geometry, basis, multiplicity, charge,\n",
    "        description=description,\n",
    "        filename='./HeH+_2_sto-3g_single_dissociation_'+description)\n",
    "\n",
    "    # Run pyscf to generate new molecular data for sto-3g H2\n",
    "    molecule = run_pyscf(molecule, run_scf=run_scf, run_fci=run_fci, verbose=False)\n",
    "    \n",
    "    # Get the fermionic Hamiltonian for HeH+ and map it using the BK encoding\n",
    "    hamiltonian = molecule.get_molecular_hamiltonian()\n",
    "    hamiltonian_ferm = of.get_fermion_operator(hamiltonian)\n",
    "    hamiltonian_bk = of.symmetry_conserving_bravyi_kitaev(hamiltonian_ferm, active_orbitals=4, active_fermions=2)\n",
    "\n",
    "    # Define terms and coefficients of our Hamiltonian\n",
    "    terms = []\n",
    "    cs = [] #Coefficients\n",
    "    for term in hamiltonian_bk.terms:\n",
    "        paulis = [None, None]\n",
    "        for pauli in term:\n",
    "            paulis[pauli[0]] = pauli[1]\n",
    "        terms += [paulis]\n",
    "        cs += [hamiltonian_bk.terms[term]]\n",
    "\n",
    "    # Minimize the expectation value of the energy using a classical optimizer (SPSA)\n",
    "    exact_energies.append(molecule.fci_energy)\n",
    "    print(\"R={}\\t Exact Energy: {}\".format(str(round(diatomic_bond_length, 2)), molecule.fci_energy))\n",
    "    \n",
    "    for i in range(2):\n",
    "        result = optimize.minimize(fun=calculate_energy, x0=[0.01], args=(i), method=\"COBYLA\")\n",
    "        optimized_energies[i].append(result.fun)\n",
    "        print(\"R={}\\t Optimized Energy: {}\\t Sampling Noise: {}\".format(str(round(diatomic_bond_length, 2)), result.fun, bool(i)))\n",
    "    print('\\n')"
   ]
  },
  {
   "cell_type": "markdown",
   "metadata": {},
   "source": [
    "## Step 7: Plot the dissociation curve"
   ]
  },
  {
   "cell_type": "code",
   "execution_count": 9,
   "metadata": {
    "execution": {
     "iopub.execute_input": "1970-01-01T00:00:00.000000Z",
     "iopub.status.busy": "1970-01-01T00:00:00.000000Z",
     "iopub.status.idle": "1970-01-01T00:00:00.000000Z",
     "shell.execute_reply": "1970-01-01T00:00:00.000000Z"
    }
   },
   "outputs": [
    {
     "data": {
      "image/png": "[encoded data removed]",
      "text/plain": [
       "<Figure size 1000x700 with 1 Axes>"
      ]
     },
     "metadata": {},
     "output_type": "display_data"
    }
   ],
   "source": [
    "import matplotlib\n",
    "import matplotlib.pyplot as pyplot\n",
    "\n",
    "# Plot the various energies for different bond lengths\n",
    "fig = pyplot.figure(figsize=(10,7))\n",
    "pyplot.rcParams['font.size']=18\n",
    "bkcolor = '#ffffff'\n",
    "ax = fig.add_subplot(1, 1, 1)\n",
    "pyplot.subplots_adjust(left=.2)\n",
    "ax.set_xlabel('R (Angstroms)')\n",
    "ax.set_ylabel(r'E (Hartrees)')\n",
    "ax.set_title(r'HeH+ 2-qubit bond dissociation curve')\n",
    "ax.spines['right'].set_visible(False)\n",
    "ax.spines['top'].set_visible(False)\n",
    "bond_lengths = [float(x) for x in bond_lengths]\n",
    "ax.plot(bond_lengths, optimized_energies[0], 'o', label='UCCSD', color='red')\n",
    "ax.plot(bond_lengths, optimized_energies[1], 'x', label='UCCSD with Sampling Noise', color='blue')\n",
    "ax.plot(bond_lengths, exact_energies, '-', label='Full-CI', color='black')\n",
    "\n",
    "ax.legend(frameon=False)\n",
    "pyplot.show()"
   ]
  },
  {
   "cell_type": "code",
   "execution_count": null,
   "metadata": {},
   "outputs": [],
   "source": []
  }
 ],
 "metadata": {
  "kernelspec": {
   "display_name": "Python 3",
   "language": "python",
   "name": "python3"
  },
  "language_info": {
   "codemirror_mode": {
    "name": "ipython",
    "version": 3
   },
   "file_extension": ".py",
   "mimetype": "text/x-python",
   "name": "python",
   "nbconvert_exporter": "python",
   "pygments_lexer": "ipython3",
   "version": "3.9.17"
  }
 },
 "nbformat": 4,
 "nbformat_minor": 4
}
