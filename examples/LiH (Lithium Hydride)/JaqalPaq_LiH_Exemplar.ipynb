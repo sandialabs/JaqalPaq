{
 "cells": [
  {
   "cell_type": "markdown",
   "metadata": {},
   "source": [
    "# Lithium Hydride (LiH) Exemplar\n",
    "## Step 0: Import various libraries"
   ]
  },
  {
   "cell_type": "code",
   "execution_count": 1,
   "metadata": {
    "execution": {
     "iopub.execute_input": "1970-01-01T00:00:00.000000Z",
     "iopub.status.busy": "1970-01-01T00:00:00.000000Z",
     "iopub.status.idle": "1970-01-01T00:00:00.000000Z",
     "shell.execute_reply": "1970-01-01T00:00:00.000000Z"
    }
   },
   "outputs": [],
   "source": [
    "# Imports for QSCOUT\n",
    "import jaqalpaq\n",
    "from jaqalpaq.core import circuitbuilder\n",
    "from jaqalpaq.run import run_jaqal_circuit\n",
    "from qscout.v1.std.jaqal_gates import ALL_GATES as std\n",
    "from qscout.v1.std import noisy\n",
    "\n",
    "# Imports for basic mathematical functionality\n",
    "from math import pi\n",
    "import numpy as np\n",
    "\n",
    "# Imports for OpenFermion(-PySCF)\n",
    "import openfermion as of\n",
    "from openfermion.chem import MolecularData\n",
    "from openfermionpyscf import run_pyscf\n",
    "from openfermion.ops import QubitOperator\n",
    "from openfermion.linalg import eigenspectrum\n",
    "\n",
    "# Import for VQE optimizer\n",
    "from scipy import optimize"
   ]
  },
  {
   "cell_type": "markdown",
   "metadata": {},
   "source": [
    "## Step 1: SCF calculation to assemble the second-quantized Hamiltonian"
   ]
  },
  {
   "cell_type": "code",
   "execution_count": 2,
   "metadata": {
    "execution": {
     "iopub.execute_input": "1970-01-01T00:00:00.000000Z",
     "iopub.status.busy": "1970-01-01T00:00:00.000000Z",
     "iopub.status.idle": "1970-01-01T00:00:00.000000Z",
     "shell.execute_reply": "1970-01-01T00:00:00.000000Z"
    }
   },
   "outputs": [
    {
     "name": "stdout",
     "output_type": "stream",
     "text": [
      "Bond Length in Angstroms: 1.4\n",
      "FCI (Exact) energy in Hartrees: -7.968761975357028\n"
     ]
    }
   ],
   "source": [
    "# Set the basis set, spin, and charge of the LiH molecule\n",
    "basis = 'sto-6g'\n",
    "multiplicity = 1\n",
    "charge = 0\n",
    "\n",
    "# Set calculation parameters\n",
    "run_scf = 1\n",
    "run_fci = 1\n",
    "delete_input = True\n",
    "delete_output = False\n",
    "\n",
    "# Generate molecule at some bond length (1.4 Angstroms here)\n",
    "geometry = [('Li', (0., 0., 0.)), ('H', (0., 0., 1.4))]\n",
    "molecule = MolecularData(geometry, basis, multiplicity, charge, filename='./LiH_sto-6g_single_1.4') #Set file location of data\n",
    "\n",
    "# Run pyscf to generate new molecular data for sto-6g LiH\n",
    "molecule = run_pyscf(molecule, run_scf=run_scf, run_fci=run_fci, verbose=False)\n",
    "\n",
    "print(\"Bond Length in Angstroms: {}\".format(1.4))\n",
    "print(\"FCI (Exact) energy in Hartrees: {}\".format(molecule.fci_energy))"
   ]
  },
  {
   "cell_type": "markdown",
   "metadata": {},
   "source": [
    "## Step 2: Convert the fermionic Hamiltonian to a qubit Hamiltonian"
   ]
  },
  {
   "cell_type": "code",
   "execution_count": 3,
   "metadata": {
    "execution": {
     "iopub.execute_input": "1970-01-01T00:00:00.000000Z",
     "iopub.status.busy": "1970-01-01T00:00:00.000000Z",
     "iopub.status.idle": "1970-01-01T00:00:00.000000Z",
     "shell.execute_reply": "1970-01-01T00:00:00.000000Z"
    }
   },
   "outputs": [
    {
     "name": "stdout",
     "output_type": "stream",
     "text": [
      "\n",
      "\n",
      "(-7.057079298049722+0j) [] +\n",
      "(0.0053147584054558305+0j) [X0 X1] +\n",
      "(0.012118592291354997+0j) [X0 X2] +\n",
      "(0.0053147584054558305+0j) [Y0 Y1] +\n",
      "(0.012118592291354997+0j) [Y0 Y2] +\n",
      "(0.062020518739408226+0j) [Z0] +\n",
      "(0.2239204188609381+0j) [Z0 Z1] +\n",
      "(0.2681033119593317+0j) [Z0 Z2] +\n",
      "(0.02070389766746614+0j) [X1 X2] +\n",
      "(0.02070389766746614+0j) [Y1 Y2] +\n",
      "(-0.28903659521073743+0j) [Z1] +\n",
      "(0.26220322611075864+0j) [Z1 Z2] +\n",
      "(-0.3128786506156256+0j) [Z2]\n"
     ]
    }
   ],
   "source": [
    "# Get the fermionic Hamiltonian for LiH and map it using the BK encoding\n",
    "# Reduce active space to orbitals 1, 2, and 3\n",
    "hamiltonian = molecule.get_molecular_hamiltonian(occupied_indices=[0], active_indices=[1,2,3])\n",
    "hamiltonian_ferm = of.get_fermion_operator(hamiltonian)\n",
    "hamiltonian_bk = of.bravyi_kitaev(hamiltonian_ferm)\n",
    "#print(hamiltonian_bk)\n",
    "print('\\n')\n",
    "\n",
    "# Further reduce the Hamiltonian to 3 qubits\n",
    "def reduce_hamiltonian(hamiltonian):\n",
    "    terms = []\n",
    "    cs = []\n",
    "    for term in hamiltonian.terms:\n",
    "        paulis = [None, None, None]\n",
    "        ignore_term = False\n",
    "        for pauli in term:\n",
    "            #HF state |000001> {indices 7,6,5,4,3,2 -> 5,4,3,2,1,0}\n",
    "            #Ansatz does not act on odd indices so they may be classically evaluated\n",
    "            if pauli[0]%2==1 and (pauli[1]=='X' or pauli[1]=='Y'): #expectation value is 0\n",
    "                ignore_term = True\n",
    "\n",
    "            #Ansatz does act on even indices so they are left alone and relabled\n",
    "            elif pauli[0]%2==0:\n",
    "                paulis[pauli[0]//2] = pauli[1]\n",
    "        if not ignore_term: #For terms that remain, separate out paulis and coefficients\n",
    "            terms += [paulis]\n",
    "            cs += [hamiltonian.terms[term]]\n",
    "    \n",
    "    #Combine like terms in the Hamiltonian\n",
    "    d = {}\n",
    "    for i in range(len(terms)):\n",
    "        if repr(terms[i]) in d: #If term is present...\n",
    "            d[repr(terms[i])][1] += cs[i] #Sum coefficients for simplified pauli terms\n",
    "        else: #If term isn't present...\n",
    "            d[repr(terms[i])] = [terms[i], cs[i]] #Simply append it  \n",
    "    return(list(d.values()))\n",
    "\n",
    "# Reduce the BK Hamiltonian for LiH\n",
    "terms = []\n",
    "cs = []\n",
    "red_hamiltonian_bk = QubitOperator()\n",
    "result = reduce_hamiltonian(hamiltonian_bk)\n",
    "for i in range(len(result)): #Separate out term and coeffs again after combining like terms\n",
    "    terms += [result[i][0]]\n",
    "    cs += [result[i][1]]\n",
    "    string = ''\n",
    "    for j, pauli in enumerate(result[i][0]):\n",
    "        if pauli != None:\n",
    "            string += str(pauli)+str(j)+' '\n",
    "    red_hamiltonian_bk += result[i][1]*QubitOperator(string)\n",
    "\n",
    "print(red_hamiltonian_bk)"
   ]
  },
  {
   "cell_type": "markdown",
   "metadata": {},
   "source": [
    "## Step 3: Define UCC Ansatz circuit in JaqalPaq"
   ]
  },
  {
   "cell_type": "code",
   "execution_count": 4,
   "metadata": {
    "execution": {
     "iopub.execute_input": "1970-01-01T00:00:00.000000Z",
     "iopub.status.busy": "1970-01-01T00:00:00.000000Z",
     "iopub.status.idle": "1970-01-01T00:00:00.000000Z",
     "shell.execute_reply": "1970-01-01T00:00:00.000000Z"
    }
   },
   "outputs": [],
   "source": [
    "def ansatz(alpha, beta, term):\n",
    "    builder = circuitbuilder.CircuitBuilder(native_gates=std)\n",
    "\n",
    "    # Define constants +-pi/2\n",
    "    pi2 = builder.let('pi2', pi/2)\n",
    "    npi2 = builder.let('npi2', -pi/2)\n",
    "\n",
    "    # Create a qubit register\n",
    "    q = builder.register('q', 3)\n",
    "\n",
    "    # Define a hadamard macro\n",
    "    hadamard = circuitbuilder.SequentialBlockBuilder()\n",
    "    hadamard.gate('Sy', 'a')\n",
    "    hadamard.gate('Px', 'a')\n",
    "    builder.macro('hadamard', ['a'], hadamard)\n",
    "\n",
    "    # Prepare the Hartree Fock state\n",
    "    builder.gate('prepare_all')\n",
    "    builder.gate('Px', q[0])\n",
    "    builder.gate('Px', q[1])\n",
    "    builder.gate('Px', q[2])\n",
    "\n",
    "    # Apply the UCC Ansatz exp[-i*theta(X1 Y0)]\n",
    "    builder.gate('MS', q[1], q[0], 0, pi2)\n",
    "    builder.gate('Rz', q[0], alpha)\n",
    "    builder.gate('MS', q[1], q[0], 0, npi2)\n",
    "\n",
    "    builder.gate('MS', q[2], q[0], 0, pi2)\n",
    "    builder.gate('Rz', q[0], beta)\n",
    "    builder.gate('MS', q[2], q[0], 0, npi2)\n",
    "\n",
    "    # Change basis for measurement depending on term\n",
    "    for j, qubit in enumerate(term):\n",
    "        if qubit == 'X':\n",
    "            builder.gate('hadamard', ('array_item', q, j)),\n",
    "        if qubit == 'Y':\n",
    "            builder.gate('Sxd', ('array_item', q, j)),\n",
    "    builder.gate('measure_all')\n",
    "\n",
    "    circuit = builder.build()\n",
    "\n",
    "    return circuit"
   ]
  },
  {
   "cell_type": "markdown",
   "metadata": {},
   "source": [
    "## Step 4: Define functions to calculate energy expectation value of Ansatz state"
   ]
  },
  {
   "cell_type": "code",
   "execution_count": 5,
   "metadata": {
    "execution": {
     "iopub.execute_input": "1970-01-01T00:00:00.000000Z",
     "iopub.status.busy": "1970-01-01T00:00:00.000000Z",
     "iopub.status.idle": "1970-01-01T00:00:00.000000Z",
     "shell.execute_reply": "1970-01-01T00:00:00.000000Z"
    }
   },
   "outputs": [],
   "source": [
    "def ansatz_sampling(alpha, beta, sample_noise):\n",
    "    term_probs = []\n",
    "    for i in range(len(terms)):\n",
    "        if sample_noise:\n",
    "            probs = np.zeros(8)\n",
    "            circuit = ansatz(alpha, beta, terms[i])\n",
    "            sim_result = run_jaqal_circuit(circuit) #Run circuit on emulator\n",
    "            sim_probs = sim_result.subcircuits[0].probability_by_int\n",
    "            sample = np.random.choice(8, size=n_samples, p=sim_probs) #Sample from distribution to get probabilities\n",
    "            \n",
    "            for count in sample:\n",
    "                probs[count] += 1 #Increment state counter\n",
    "            probs = probs/n_samples #Determine probabilities from sampling\n",
    "            term_probs += [probs] #Combine lists of probs of each term in Hamiltonian\n",
    "                \n",
    "        else: #Exact solution without sampling\n",
    "            circuit = ansatz(alpha, beta, terms[i])\n",
    "            sim_result = run_jaqal_circuit(circuit) #Run circuit on emulator\n",
    "            sim_probs = sim_result.subcircuits[0].probability_by_int\n",
    "            term_probs += [sim_probs]\n",
    "    \n",
    "    return term_probs"
   ]
  },
  {
   "cell_type": "code",
   "execution_count": 6,
   "metadata": {
    "execution": {
     "iopub.execute_input": "1970-01-01T00:00:00.000000Z",
     "iopub.status.busy": "1970-01-01T00:00:00.000000Z",
     "iopub.status.idle": "1970-01-01T00:00:00.000000Z",
     "shell.execute_reply": "1970-01-01T00:00:00.000000Z"
    }
   },
   "outputs": [],
   "source": [
    "# Calculate energy of one term of the Hamiltonian for one possible state\n",
    "def term_energy(term, state, coefficient, prob):\n",
    "    parity = 1\n",
    "    for i in range(len(term)):\n",
    "        #Change parity if state is occupied and is acted on by a pauli operator\n",
    "        if term[i] != None and state[i] == '1':\n",
    "            parity = -1*parity\n",
    "    return coefficient*prob*parity\n",
    "\n",
    "# Calculate energy of the molecule for a given value of theta\n",
    "def calculate_energy(params, sample_noise):\n",
    "    energy = 0\n",
    "    probs = ansatz_sampling(params[0], params[1], sample_noise) #Convert tuple (from optimization) to float for circuit\n",
    "    for i in range(len(terms)): #For each term in the hamiltonian\n",
    "        for j in range(len(probs[0])): #For each possible state\n",
    "            term = terms[i]\n",
    "            state = '{0:03b}'.format(j)[::-1] #convert state to binary (# of qubits)\n",
    "            coefficient = cs[i].real\n",
    "            prob = probs[i][j]\n",
    "            #print(term, state, coefficient, prob)\n",
    "            energy += term_energy(term, state, coefficient, prob)\n",
    "    return energy"
   ]
  },
  {
   "cell_type": "markdown",
   "metadata": {},
   "source": [
    "## Step 5: Minimize the energy expectation value in α and ß"
   ]
  },
  {
   "cell_type": "code",
   "execution_count": 7,
   "metadata": {
    "execution": {
     "iopub.execute_input": "1970-01-01T00:00:00.000000Z",
     "iopub.status.busy": "1970-01-01T00:00:00.000000Z",
     "iopub.status.idle": "1970-01-01T00:00:00.000000Z",
     "shell.execute_reply": "1970-01-01T00:00:00.000000Z"
    }
   },
   "outputs": [
    {
     "data": {
      "text/plain": [
       " message: Optimization terminated successfully.\n",
       " success: True\n",
       "  status: 1\n",
       "     fun: -7.951823706840523\n",
       "       x: [ 3.167e+00  3.212e+00]\n",
       "    nfev: 39\n",
       "   maxcv: 0.0"
      ]
     },
     "execution_count": 7,
     "metadata": {},
     "output_type": "execute_result"
    }
   ],
   "source": [
    "# Minimize the energy using classical optimization\n",
    "n_samples = 10000\n",
    "optimize.minimize(fun=calculate_energy, x0=[0.01, 0.01], args=(False), method=\"COBYLA\")"
   ]
  },
  {
   "cell_type": "markdown",
   "metadata": {},
   "source": [
    "## Step 6: Loop over previous steps to calculate ground state energy at different bond lengths"
   ]
  },
  {
   "cell_type": "code",
   "execution_count": 8,
   "metadata": {
    "execution": {
     "iopub.execute_input": "1970-01-01T00:00:00.000000Z",
     "iopub.status.busy": "1970-01-01T00:00:00.000000Z",
     "iopub.status.idle": "1970-01-01T00:00:00.000000Z",
     "shell.execute_reply": "1970-01-01T00:00:00.000000Z"
    }
   },
   "outputs": [
    {
     "name": "stdout",
     "output_type": "stream",
     "text": [
      "R=0.5\t Exact Energy: -7.033367186406526\n",
      "R=0.5\t Optimized Energy: -7.033349021107697\t Sampling Noise: False\n",
      "R=0.5\t Optimized Energy: -7.033231932106509\t Sampling Noise: True\n",
      "\n",
      "\n",
      "R=0.7\t Exact Energy: -7.487898589347753\n",
      "R=0.7\t Optimized Energy: -7.487897377763641\t Sampling Noise: False\n",
      "R=0.7\t Optimized Energy: -7.488492089874675\t Sampling Noise: True\n",
      "\n",
      "\n",
      "R=0.9\t Exact Energy: -7.70712048447583\n",
      "R=0.9\t Optimized Energy: -7.707119928889675\t Sampling Noise: False\n",
      "R=0.9\t Optimized Energy: -7.706737592393082\t Sampling Noise: True\n",
      "\n",
      "\n",
      "R=1.1\t Exact Energy: -7.809901571334387\n",
      "R=1.1\t Optimized Energy: -7.809901120144714\t Sampling Noise: False\n",
      "R=1.1\t Optimized Energy: -7.810186964615287\t Sampling Noise: True\n",
      "\n",
      "\n",
      "R=1.3\t Exact Energy: -7.853016025162541\n",
      "R=1.3\t Optimized Energy: -7.853015533697946\t Sampling Noise: False\n",
      "R=1.3\t Optimized Energy: -7.851885743140045\t Sampling Noise: True\n",
      "\n",
      "\n",
      "R=1.5\t Exact Energy: -7.864379671442509\n",
      "R=1.5\t Optimized Energy: -7.864379048040596\t Sampling Noise: False\n",
      "R=1.5\t Optimized Energy: -7.864279721246153\t Sampling Noise: True\n",
      "\n",
      "\n",
      "R=1.7\t Exact Energy: -7.858181514824661\n",
      "R=1.7\t Optimized Energy: -7.858180631486398\t Sampling Noise: False\n",
      "R=1.7\t Optimized Energy: -7.858531165649922\t Sampling Noise: True\n",
      "\n",
      "\n",
      "R=1.9\t Exact Energy: -7.842239915627895\n",
      "R=1.9\t Optimized Energy: -7.842238556806599\t Sampling Noise: False\n",
      "R=1.9\t Optimized Energy: -7.84124200967805\t Sampling Noise: True\n",
      "\n",
      "\n",
      "R=2.1\t Exact Energy: -7.821112508963586\n",
      "R=2.1\t Optimized Energy: -7.821110271677261\t Sampling Noise: False\n",
      "R=2.1\t Optimized Energy: -7.820333105021922\t Sampling Noise: True\n",
      "\n",
      "\n",
      "R=2.3\t Exact Energy: -7.7975765586644625\n",
      "R=2.3\t Optimized Energy: -7.797572638976252\t Sampling Noise: False\n",
      "R=2.3\t Optimized Energy: -7.79597775808493\t Sampling Noise: True\n",
      "\n",
      "\n",
      "R=2.5\t Exact Energy: -7.773482479336052\n",
      "R=2.5\t Optimized Energy: -7.773475229347096\t Sampling Noise: False\n",
      "R=2.5\t Optimized Energy: -7.7738540469694755\t Sampling Noise: True\n",
      "\n",
      "\n",
      "R=2.7\t Exact Energy: -7.750328447018784\n",
      "R=2.7\t Optimized Energy: -7.750314609038737\t Sampling Noise: False\n",
      "R=2.7\t Optimized Energy: -7.7483977277091185\t Sampling Noise: True\n",
      "\n",
      "\n",
      "R=2.9\t Exact Energy: -7.729696902316546\n",
      "R=2.9\t Optimized Energy: -7.72967108691318\t Sampling Noise: False\n",
      "R=2.9\t Optimized Energy: -7.729848138910017\t Sampling Noise: True\n",
      "\n",
      "\n",
      "R=3.1\t Exact Energy: -7.713586571384989\n",
      "R=3.1\t Optimized Energy: -7.713544226474734\t Sampling Noise: False\n",
      "R=3.1\t Optimized Energy: -7.70752280166258\t Sampling Noise: True\n",
      "\n",
      "\n",
      "R=3.3\t Exact Energy: -7.704411742680221\n",
      "R=3.3\t Optimized Energy: -7.7043600261500735\t Sampling Noise: False\n",
      "R=3.3\t Optimized Energy: -7.6964340318160245\t Sampling Noise: True\n",
      "\n",
      "\n",
      "R=3.5\t Exact Energy: -7.703996053756897\n",
      "R=3.5\t Optimized Energy: -7.703957355347996\t Sampling Noise: False\n",
      "R=3.5\t Optimized Energy: -7.700897529783346\t Sampling Noise: True\n",
      "\n",
      "\n"
     ]
    }
   ],
   "source": [
    "# Set the basis set, spin, and charge of the LiH molecule\n",
    "basis = 'sto-3g'\n",
    "multiplicity = 1\n",
    "charge = 0\n",
    "\n",
    "# Set calculation parameters\n",
    "run_scf = 1\n",
    "run_fci = 1\n",
    "delete_input = True\n",
    "delete_output = False\n",
    "\n",
    "optimized_energies = [[], []]\n",
    "exact_energies = []\n",
    "\n",
    "# Loop over bond lengths from 1.0 to 2.0 angstroms\n",
    "n_samples = 10000 # Sample circuit\n",
    "n_pts = 16 #Number of points\n",
    "bond_lengths = np.linspace(0.5,3.5,n_pts)\n",
    "for diatomic_bond_length in bond_lengths:\n",
    "    # Generate molecule at some bond length\n",
    "    geometry = [('Li', (0., 0., 0.)), ('H', (0., 0., diatomic_bond_length))]\n",
    "    description = str(round(diatomic_bond_length, 2))\n",
    "    molecule = MolecularData(\n",
    "        geometry, basis, multiplicity, charge,\n",
    "        description=description,\n",
    "        filename='./LiH_sto-6g_single_dissociation')\n",
    "\n",
    "    # Run pyscf\n",
    "    molecule = run_pyscf(molecule,\n",
    "                     run_scf=run_scf,\n",
    "                     run_fci=run_fci,\n",
    "                     verbose=False)\n",
    "    \n",
    "    # Get the fermionic Hamiltonian for LiH and map it using the BK encoding\n",
    "    # Reduce active space to orbitals 1, 2, and 3\n",
    "    hamiltonian = molecule.get_molecular_hamiltonian(occupied_indices=[0], active_indices=[1,2,3])\n",
    "    hamiltonian_ferm = of.get_fermion_operator(hamiltonian)\n",
    "    hamiltonian_bk = of.bravyi_kitaev(hamiltonian_ferm)\n",
    "    \n",
    "    # Reduce the BK Hamiltonian for LiH\n",
    "    terms = []\n",
    "    cs = []\n",
    "    red_hamiltonian_bk = QubitOperator()\n",
    "    result = reduce_hamiltonian(hamiltonian_bk)\n",
    "    for i in range(len(result)): #Separate out term and coeffs again after combining like terms\n",
    "        terms += [result[i][0]]\n",
    "        cs += [result[i][1]]\n",
    "        string = ''\n",
    "        for j, pauli in enumerate(result[i][0]):\n",
    "            if pauli != None:\n",
    "                string += str(pauli)+str(j)+' '\n",
    "        red_hamiltonian_bk += result[i][1]*QubitOperator(string)\n",
    "    \n",
    "    # Minimize the expectation value of the energy using a classical optimizer (COBYLA)\n",
    "    exact_energies.append(eigenspectrum(red_hamiltonian_bk)[0])\n",
    "    print(\"R={}\\t Exact Energy: {}\".format(str(round(diatomic_bond_length, 2)), eigenspectrum(red_hamiltonian_bk)[0]))\n",
    "    \n",
    "    for i in range(2):\n",
    "        result = optimize.minimize(fun=calculate_energy, x0=[0.01, 0.01], args=(i), method=\"COBYLA\")\n",
    "        optimized_energies[i].append(result.fun)\n",
    "        print(\"R={}\\t Optimized Energy: {}\\t Sampling Noise: {}\".format(str(round(diatomic_bond_length, 2)), result.fun, bool(i)))\n",
    "    print('\\n')"
   ]
  },
  {
   "cell_type": "markdown",
   "metadata": {},
   "source": [
    "## Step 7: Plot the dissociation curve"
   ]
  },
  {
   "cell_type": "code",
   "execution_count": 9,
   "metadata": {
    "execution": {
     "iopub.execute_input": "1970-01-01T00:00:00.000000Z",
     "iopub.status.busy": "1970-01-01T00:00:00.000000Z",
     "iopub.status.idle": "1970-01-01T00:00:00.000000Z",
     "shell.execute_reply": "1970-01-01T00:00:00.000000Z"
    }
   },
   "outputs": [
    {
     "data": {
      "image/png": "[encoded data removed]",
      "text/plain": [
       "<Figure size 1000x700 with 1 Axes>"
      ]
     },
     "metadata": {},
     "output_type": "display_data"
    }
   ],
   "source": [
    "import matplotlib\n",
    "import matplotlib.pyplot as pyplot\n",
    "\n",
    "# Plot the various energies for different bond lengths\n",
    "fig = pyplot.figure(figsize=(10,7))\n",
    "pyplot.rcParams['font.size']=18\n",
    "bkcolor = '#ffffff'\n",
    "ax = fig.add_subplot(1, 1, 1)\n",
    "pyplot.subplots_adjust(left=.2)\n",
    "ax.set_xlabel('R (Angstroms)')\n",
    "ax.set_ylabel(r'E (Hartrees)')\n",
    "ax.set_title(r'LiH bond dissociation curve')\n",
    "ax.spines['right'].set_visible(False)\n",
    "ax.spines['top'].set_visible(False)\n",
    "bond_lengths = [float(x) for x in bond_lengths]\n",
    "ax.plot(bond_lengths, optimized_energies[0], 'o', label='UCCSD', color='red')\n",
    "ax.plot(bond_lengths, optimized_energies[1], 'x', label='UCCSD with Sampling Noise', color='blue')\n",
    "ax.plot(bond_lengths, exact_energies, '-', label='Full-CI', color='black')\n",
    "\n",
    "ax.legend(frameon=False)\n",
    "pyplot.show()"
   ]
  },
  {
   "cell_type": "code",
   "execution_count": null,
   "metadata": {},
   "outputs": [],
   "source": []
  }
 ],
 "metadata": {
  "kernelspec": {
   "display_name": "Python 3",
   "language": "python",
   "name": "python3"
  },
  "language_info": {
   "codemirror_mode": {
    "name": "ipython",
    "version": 3
   },
   "file_extension": ".py",
   "mimetype": "text/x-python",
   "name": "python",
   "nbconvert_exporter": "python",
   "pygments_lexer": "ipython3",
   "version": "3.9.17"
  }
 },
 "nbformat": 4,
 "nbformat_minor": 4
}
